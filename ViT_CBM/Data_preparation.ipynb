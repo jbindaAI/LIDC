{
 "cells": [
  {
   "cell_type": "markdown",
   "id": "dc10a143-d10c-4470-bb40-4a9947a8972f",
   "metadata": {},
   "source": [
    "# Data preparation\n",
    "Due to the problem with IO.stream redirecting in Jupyter Notebook, most of the code run outside of the notebook, from `dataset_creation.py` file."
   ]
  },
  {
   "cell_type": "markdown",
   "id": "b964c7d6-7ab0-4d2a-b9ed-3ade16ce43f8",
   "metadata": {},
   "source": [
    "## Creating a configurational file\n",
    "At the begining pylidc library needs a configurational file `.pylidcrc` saved at the root directory. File have to include path to LIDC-IDRI dataset."
   ]
  },
  {
   "cell_type": "code",
   "execution_count": 39,
   "id": "6bc2dfc5-83f0-4479-a440-fc37407d7eb7",
   "metadata": {},
   "outputs": [
    {
     "name": "stdout",
     "output_type": "stream",
     "text": [
      "/lu/tetyda/home/dzban112/Lung_cancer\n"
     ]
    }
   ],
   "source": [
    "! pwd"
   ]
  },
  {
   "cell_type": "code",
   "execution_count": 40,
   "id": "b4ee1f06-153e-4597-9707-b491217a7f2a",
   "metadata": {},
   "outputs": [],
   "source": [
    "path = '../LIDC_sets/10_hundred/LIDC-IDRI'\n",
    "with open('/home/dzban112/.pylidcrc', 'w') as f: # mode 'w' clear file and starts writing from the begining.\n",
    "    f.write(f'[dicom]\\npath = {path}\\n\\n')"
   ]
  },
  {
   "cell_type": "code",
   "execution_count": 41,
   "id": "0550c453-81ab-411a-ac02-68aa81dfcd8e",
   "metadata": {},
   "outputs": [
    {
     "name": "stdout",
     "output_type": "stream",
     "text": [
      "[dicom]\n",
      "path = ../LIDC_sets/10_hundred/LIDC-IDRI\n",
      "\n"
     ]
    }
   ],
   "source": [
    "! cat /home/dzban112/.pylidcrc"
   ]
  },
  {
   "cell_type": "markdown",
   "id": "f535b6a4-debb-43f9-b6ae-0eed68a1702d",
   "metadata": {},
   "source": [
    "## Defining base path and saving path\n",
    "Base path is a path to the LIDC-IDRI set. <br/>\n",
    "Saving path is where the prepared dataset will be saved."
   ]
  },
  {
   "cell_type": "code",
   "execution_count": 3,
   "id": "2f5302f5-3a1a-452b-a499-e665e0417f4c",
   "metadata": {},
   "outputs": [],
   "source": [
    "# define path to LIDC-IDRI data\n",
    "base_path = \"../LIDC_sets/10_hundred/LIDC-IDRI\"\n",
    "# define path to save the dataset\n",
    "save_path = \"./dataset\"\n",
    "\n",
    "with open('paths.txt', 'w') as p:\n",
    "    p.write(base_path + \"\\n\")\n",
    "    p.write(save_path)"
   ]
  },
  {
   "cell_type": "markdown",
   "id": "0ac11f1c-0477-435d-a749-f8718fd8810c",
   "metadata": {},
   "source": [
    "## What data is extracted from LIDCI-IDRI set?\n",
    "The scope of this notebook is to extract relevant data from the big LIDCI-IDRI set. Whole dataset include **1018** records, which are CT (Computer Tomography) scans of patients lungs.\n",
    "Scans are annotated by maximally **4** annotators. Each annotation corresponds to a nodule and describes its attributes. For purpose of dataset creation I extracted following nodule attributes:\n",
    "* sublety\n",
    "* internalStructure\n",
    "* calcification\n",
    "* sphericity\n",
    "* margin\n",
    "* lobulation\n",
    "* spiculation\n",
    "* texture\n",
    "* diameter\n",
    "\n",
    "There is also hand-crafted target feature, which says whether nodule in benign or malignant.\n",
    "Last but not the least, image data is extracted by cropping original scans. Only volume of dimmensions **(h, h, h)** which surrounds center of nodule is extracted. **Parameter h is set by default to 32.** It may be adjusted in `dataset_creation.py` file."
   ]
  },
  {
   "cell_type": "markdown",
   "id": "87d34fde-cf14-4cd2-9350-57b0aeb927ad",
   "metadata": {},
   "source": [
    "### Main script\n",
    "Running it creates dataset with extracted values. Code makes following files:\n",
    "* `{save_path}/match.pkl` - 2D array with matched LIDCI-IDRI patient ID and new nodule ID in the created dataset. \n",
    "* `{save_path}/annotations.pkl` - python dictionary object with annotations data saved as pickle file.\n",
    "* `{save_path}/annotations_df.pkl` - Pandas DataFrame object with annotations data saved as pickle file.\n",
    "<br/> Also following directories are prepared:\n",
    "* `{save_path}/crops` - directory stores extracted image volumes with nodules.\n",
    "* `{save_path}/masks` - directory stores corresponding to volumes masks."
   ]
  },
  {
   "cell_type": "markdown",
   "id": "2a051ccb-fb72-4546-bc67-366cb75e4db0",
   "metadata": {},
   "source": [
    "Script accept additional argument indicating starting idx for nodules.\n",
    "It is because I cannot download all data on disk and I have to download and process it in batches ;)"
   ]
  },
  {
   "cell_type": "code",
   "execution_count": 43,
   "id": "91cda84b-8319-4118-b7b6-418fe20a0c6b",
   "metadata": {},
   "outputs": [
    {
     "name": "stdout",
     "output_type": "stream",
     "text": [
      " 35%|██████████████▉                           | 39/110 [05:25<10:29,  8.87s/it]Failed to reduce all groups to <= 4 Annotations.\n",
      "Some nodules may be close and must be grouped manually.\n",
      "skipping!\n",
      "100%|█████████████████████████████████████████| 110/110 [14:28<00:00,  7.90s/it]\n"
     ]
    }
   ],
   "source": [
    "! python3 dataset_creation.py --start_idx 771 --ann_output_filename annotations_10 --match_table_name match_10"
   ]
  },
  {
   "cell_type": "code",
   "execution_count": 44,
   "id": "a8bd14d5-5e69-42df-a2fe-2ebbbf758264",
   "metadata": {},
   "outputs": [],
   "source": [
    "import pickle\n",
    "import pandas as pd\n",
    "\n",
    "FILENAME = \"annotations_10\"\n",
    "\n",
    "# Creates pandas dataframe from dictionary and saves it as pickle\n",
    "with open(f\"{save_path}/{FILENAME}.pkl\", \"rb\") as k:\n",
    "    avg_annotations = pickle.load(k)\n",
    "df_ann = pd.DataFrame.from_dict(avg_annotations)\n",
    "df_ann.to_pickle(f\"{save_path}/{FILENAME}_df.pkl\")"
   ]
  },
  {
   "cell_type": "code",
   "execution_count": 45,
   "id": "068d362d-ca24-421d-94de-33c04b9e0ef6",
   "metadata": {},
   "outputs": [
    {
     "data": {
      "text/html": [
       "<div>\n",
       "<style scoped>\n",
       "    .dataframe tbody tr th:only-of-type {\n",
       "        vertical-align: middle;\n",
       "    }\n",
       "\n",
       "    .dataframe tbody tr th {\n",
       "        vertical-align: top;\n",
       "    }\n",
       "\n",
       "    .dataframe thead th {\n",
       "        text-align: right;\n",
       "    }\n",
       "</style>\n",
       "<table border=\"1\" class=\"dataframe\">\n",
       "  <thead>\n",
       "    <tr style=\"text-align: right;\">\n",
       "      <th></th>\n",
       "      <th>subtlety</th>\n",
       "      <th>internalStructure</th>\n",
       "      <th>calcification</th>\n",
       "      <th>sphericity</th>\n",
       "      <th>margin</th>\n",
       "      <th>lobulation</th>\n",
       "      <th>spiculation</th>\n",
       "      <th>texture</th>\n",
       "      <th>diameter</th>\n",
       "      <th>target</th>\n",
       "      <th>path</th>\n",
       "    </tr>\n",
       "  </thead>\n",
       "  <tbody>\n",
       "    <tr>\n",
       "      <th>0</th>\n",
       "      <td>4.333333</td>\n",
       "      <td>1.0</td>\n",
       "      <td>6.0</td>\n",
       "      <td>3.333333</td>\n",
       "      <td>3.000000</td>\n",
       "      <td>2.666667</td>\n",
       "      <td>4.00</td>\n",
       "      <td>4.0</td>\n",
       "      <td>11.709594</td>\n",
       "      <td>1</td>\n",
       "      <td>0771.pt</td>\n",
       "    </tr>\n",
       "    <tr>\n",
       "      <th>1</th>\n",
       "      <td>4.250000</td>\n",
       "      <td>1.0</td>\n",
       "      <td>6.0</td>\n",
       "      <td>3.500000</td>\n",
       "      <td>4.000000</td>\n",
       "      <td>2.250000</td>\n",
       "      <td>2.75</td>\n",
       "      <td>5.0</td>\n",
       "      <td>13.820808</td>\n",
       "      <td>1</td>\n",
       "      <td>0772.pt</td>\n",
       "    </tr>\n",
       "    <tr>\n",
       "      <th>2</th>\n",
       "      <td>3.000000</td>\n",
       "      <td>1.0</td>\n",
       "      <td>6.0</td>\n",
       "      <td>4.333333</td>\n",
       "      <td>4.666667</td>\n",
       "      <td>1.000000</td>\n",
       "      <td>1.00</td>\n",
       "      <td>5.0</td>\n",
       "      <td>5.107378</td>\n",
       "      <td>0</td>\n",
       "      <td>0773.pt</td>\n",
       "    </tr>\n",
       "    <tr>\n",
       "      <th>3</th>\n",
       "      <td>3.250000</td>\n",
       "      <td>1.0</td>\n",
       "      <td>6.0</td>\n",
       "      <td>4.000000</td>\n",
       "      <td>3.750000</td>\n",
       "      <td>1.250000</td>\n",
       "      <td>1.50</td>\n",
       "      <td>4.0</td>\n",
       "      <td>5.992543</td>\n",
       "      <td>0</td>\n",
       "      <td>0774.pt</td>\n",
       "    </tr>\n",
       "    <tr>\n",
       "      <th>4</th>\n",
       "      <td>2.500000</td>\n",
       "      <td>1.0</td>\n",
       "      <td>6.0</td>\n",
       "      <td>3.500000</td>\n",
       "      <td>3.000000</td>\n",
       "      <td>1.500000</td>\n",
       "      <td>1.00</td>\n",
       "      <td>2.5</td>\n",
       "      <td>8.304337</td>\n",
       "      <td>0</td>\n",
       "      <td>0775.pt</td>\n",
       "    </tr>\n",
       "  </tbody>\n",
       "</table>\n",
       "</div>"
      ],
      "text/plain": [
       "   subtlety  internalStructure  calcification  sphericity    margin  \\\n",
       "0  4.333333                1.0            6.0    3.333333  3.000000   \n",
       "1  4.250000                1.0            6.0    3.500000  4.000000   \n",
       "2  3.000000                1.0            6.0    4.333333  4.666667   \n",
       "3  3.250000                1.0            6.0    4.000000  3.750000   \n",
       "4  2.500000                1.0            6.0    3.500000  3.000000   \n",
       "\n",
       "   lobulation  spiculation  texture   diameter  target     path  \n",
       "0    2.666667         4.00      4.0  11.709594       1  0771.pt  \n",
       "1    2.250000         2.75      5.0  13.820808       1  0772.pt  \n",
       "2    1.000000         1.00      5.0   5.107378       0  0773.pt  \n",
       "3    1.250000         1.50      4.0   5.992543       0  0774.pt  \n",
       "4    1.500000         1.00      2.5   8.304337       0  0775.pt  "
      ]
     },
     "execution_count": 45,
     "metadata": {},
     "output_type": "execute_result"
    }
   ],
   "source": [
    "df_ann.head()"
   ]
  },
  {
   "cell_type": "markdown",
   "id": "a9dbe395-a0b8-4b3a-b3ff-bcf521fc42eb",
   "metadata": {},
   "source": [
    "## Concatenating DataFrames\n",
    "As I downloaded and processed CT scans in batches, at the end I concatenate intermediate DataFrames into one final."
   ]
  },
  {
   "cell_type": "code",
   "execution_count": 2,
   "id": "ed22ae0e-aeaf-44ab-8aa0-331b46f32b15",
   "metadata": {},
   "outputs": [],
   "source": [
    "import pickle\n",
    "import pandas as pd\n",
    "\n",
    "df = pd.read_pickle(f\"{save_path}/annotations_1_df.pkl\")\n",
    "\n",
    "for i in range(2, 11):\n",
    "    df_next = pd.read_pickle(f\"{save_path}/annotations_{i}_df.pkl\")\n",
    "    df = pd.concat([df, df_next], ignore_index=True, axis=0)"
   ]
  },
  {
   "cell_type": "code",
   "execution_count": 6,
   "id": "c9b3e44a-8aa1-4b0e-adef-cac14a3415c7",
   "metadata": {},
   "outputs": [],
   "source": [
    "df.to_pickle(f\"{save_path}/ALL_annotations_df.pkl\")"
   ]
  },
  {
   "cell_type": "code",
   "execution_count": 15,
   "id": "7c43855a-637e-4edd-95e2-18e18029963b",
   "metadata": {},
   "outputs": [],
   "source": [
    "df_match = pd.DataFrame(pd.read_pickle(f\"{save_path}/match_1.pkl\"))\n",
    "\n",
    "for i in range(2, 11):\n",
    "    df_next = pd.DataFrame(pd.read_pickle(f\"{save_path}/match_{i}.pkl\"))\n",
    "    df_match = pd.concat([df_match, df_next], ignore_index=True, axis=0)"
   ]
  },
  {
   "cell_type": "code",
   "execution_count": 16,
   "id": "33e44022-a859-4624-a217-0054d478b02e",
   "metadata": {},
   "outputs": [],
   "source": [
    "df_match.to_pickle(f\"{save_path}/match_ALL_df.pkl\")"
   ]
  },
  {
   "cell_type": "code",
   "execution_count": 18,
   "id": "399fa475-8d7f-42a3-8557-a3f6ba6f7036",
   "metadata": {},
   "outputs": [
    {
     "data": {
      "text/html": [
       "<div>\n",
       "<style scoped>\n",
       "    .dataframe tbody tr th:only-of-type {\n",
       "        vertical-align: middle;\n",
       "    }\n",
       "\n",
       "    .dataframe tbody tr th {\n",
       "        vertical-align: top;\n",
       "    }\n",
       "\n",
       "    .dataframe thead th {\n",
       "        text-align: right;\n",
       "    }\n",
       "</style>\n",
       "<table border=\"1\" class=\"dataframe\">\n",
       "  <thead>\n",
       "    <tr style=\"text-align: right;\">\n",
       "      <th></th>\n",
       "      <th>0</th>\n",
       "      <th>1</th>\n",
       "      <th>2</th>\n",
       "    </tr>\n",
       "  </thead>\n",
       "  <tbody>\n",
       "    <tr>\n",
       "      <th>0</th>\n",
       "      <td>0001</td>\n",
       "      <td>0</td>\n",
       "      <td>2</td>\n",
       "    </tr>\n",
       "    <tr>\n",
       "      <th>1</th>\n",
       "      <td>0003</td>\n",
       "      <td>1</td>\n",
       "      <td>3</td>\n",
       "    </tr>\n",
       "    <tr>\n",
       "      <th>2</th>\n",
       "      <td>0003</td>\n",
       "      <td>2</td>\n",
       "      <td>4</td>\n",
       "    </tr>\n",
       "    <tr>\n",
       "      <th>3</th>\n",
       "      <td>0003</td>\n",
       "      <td>3</td>\n",
       "      <td>5</td>\n",
       "    </tr>\n",
       "    <tr>\n",
       "      <th>4</th>\n",
       "      <td>0004</td>\n",
       "      <td>0</td>\n",
       "      <td>6</td>\n",
       "    </tr>\n",
       "  </tbody>\n",
       "</table>\n",
       "</div>"
      ],
      "text/plain": [
       "      0  1  2\n",
       "0  0001  0  2\n",
       "1  0003  1  3\n",
       "2  0003  2  4\n",
       "3  0003  3  5\n",
       "4  0004  0  6"
      ]
     },
     "execution_count": 18,
     "metadata": {},
     "output_type": "execute_result"
    }
   ],
   "source": [
    "df_match.head()"
   ]
  },
  {
   "cell_type": "markdown",
   "id": "351811d6-737d-42a2-aec0-fbd67fbc182a",
   "metadata": {},
   "source": [
    "## Visualisation of crops\n",
    "Below function to visualise crops slices"
   ]
  },
  {
   "cell_type": "code",
   "execution_count": 1,
   "id": "887e6dee-bf3a-4206-8793-0d79764ab09b",
   "metadata": {},
   "outputs": [
    {
     "data": {
      "text/plain": [
       "<Figure size 432x288 with 0 Axes>"
      ]
     },
     "metadata": {},
     "output_type": "display_data"
    }
   ],
   "source": [
    "import matplotlib.pyplot as plt\n",
    "import torch\n",
    "\n",
    "plt.set_cmap('gray')\n",
    "\n",
    "def visualise_crop_slice(save_path, ID, slice_number, apply_mask = True):\n",
    "    crop = torch.load(f\"{save_path}/crops/{ID}\")\n",
    "    mask = torch.load(f\"{save_path}/masks/{ID}\")\n",
    "    \n",
    "    if apply_mask:\n",
    "        img = crop*mask\n",
    "    else:\n",
    "        img = crop\n",
    "    \n",
    "    plt.figure(figsize=(5, 5))\n",
    "    plt.imshow(img[:,:,slice_number])\n",
    "    plt.show()"
   ]
  },
  {
   "cell_type": "code",
   "execution_count": 8,
   "id": "cb1b471c-0263-4f10-ad3c-69f6055b5ad3",
   "metadata": {},
   "outputs": [
    {
     "data": {
      "image/png": "[encoded data removed]",
      "text/plain": [
       "<Figure size 360x360 with 1 Axes>"
      ]
     },
     "metadata": {
      "needs_background": "light"
     },
     "output_type": "display_data"
    }
   ],
   "source": [
    "visualise_crop_slice(save_path, \"0347.pt\", 16, apply_mask=False)"
   ]
  }
 ],
 "metadata": {
  "kernelspec": {
   "display_name": "Python 3 (ipykernel)",
   "language": "python",
   "name": "python3"
  },
  "language_info": {
   "codemirror_mode": {
    "name": "ipython",
    "version": 3
   },
   "file_extension": ".py",
   "mimetype": "text/x-python",
   "name": "python",
   "nbconvert_exporter": "python",
   "pygments_lexer": "ipython3",
   "version": "3.11.7"
  }
 },
 "nbformat": 4,
 "nbformat_minor": 5
}
