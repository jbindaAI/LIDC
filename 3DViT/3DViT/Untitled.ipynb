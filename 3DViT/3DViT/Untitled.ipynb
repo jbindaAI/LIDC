{
 "cells": [
  {
   "cell_type": "code",
   "execution_count": 1,
   "id": "fffff966-07de-4705-9b1c-090ee42ab7ec",
   "metadata": {},
   "outputs": [],
   "source": [
    "from E2E_3DViT import E2E_3DViT"
   ]
  },
  {
   "cell_type": "code",
   "execution_count": 6,
   "id": "50b8b2fe-1d40-41ad-9eb5-bcfe8d36588d",
   "metadata": {},
   "outputs": [],
   "source": [
    "model = E2E_3DViT(\n",
    "    trainable_layers=10,\n",
    "    dropout=0.1,\n",
    "    lr_rate=4e-5,\n",
    "    max_lr=8e-4,\n",
    "    img_size=(7, 224, 224), # (volume depth, height, width)\n",
    "    patch_size=8,\n",
    "    bootstrap_method=\"average\",\n",
    "    epochs=10,\n",
    "    steps_per_epoch=58,\n",
    "    train_emb_layer=True\n",
    ")"
   ]
  },
  {
   "cell_type": "code",
   "execution_count": 7,
   "id": "97800f6f-a662-4da0-9d3f-cb405600a274",
   "metadata": {},
   "outputs": [
    {
     "name": "stdout",
     "output_type": "stream",
     "text": [
      "E2E_3DViT(\n",
      "  (dino): VisionTransformer3D(\n",
      "    (patch_embed): PatchEmbed(\n",
      "      (proj): Conv3d(1, 384, kernel_size=(8, 8, 7), stride=(8, 8, 7))\n",
      "    )\n",
      "    (pos_drop): Dropout(p=0.1, inplace=False)\n",
      "    (blocks): ModuleList(\n",
      "      (0-11): 12 x Block(\n",
      "        (norm1): LayerNorm((384,), eps=1e-06, elementwise_affine=True)\n",
      "        (attn): Attention(\n",
      "          (qkv): Linear(in_features=384, out_features=1152, bias=True)\n",
      "          (attn_drop): Dropout(p=0.1, inplace=False)\n",
      "          (proj): Linear(in_features=384, out_features=384, bias=True)\n",
      "          (proj_drop): Dropout(p=0.1, inplace=False)\n",
      "        )\n",
      "        (drop_path): Identity()\n",
      "        (norm2): LayerNorm((384,), eps=1e-06, elementwise_affine=True)\n",
      "        (mlp): Mlp(\n",
      "          (fc1): Linear(in_features=384, out_features=1536, bias=True)\n",
      "          (act): GELU(approximate='none')\n",
      "          (fc2): Linear(in_features=1536, out_features=384, bias=True)\n",
      "          (drop): Dropout(p=0.1, inplace=False)\n",
      "        )\n",
      "      )\n",
      "    )\n",
      "    (norm): LayerNorm((384,), eps=1e-06, elementwise_affine=True)\n",
      "    (head): Identity()\n",
      "  )\n",
      "  (linear): Linear(in_features=384, out_features=1, bias=True)\n",
      "  (accuracy): BinaryAccuracy()\n",
      ")\n"
     ]
    }
   ],
   "source": [
    "print(model)"
   ]
  },
  {
   "cell_type": "code",
   "execution_count": 8,
   "id": "a3556dfe-89c4-4e8a-a114-01939a620ace",
   "metadata": {},
   "outputs": [],
   "source": [
    "from torchinfo import summary"
   ]
  },
  {
   "cell_type": "code",
   "execution_count": 9,
   "id": "ee978ab4-c92a-4800-b524-98ce82d891cd",
   "metadata": {},
   "outputs": [
    {
     "data": {
      "text/plain": [
       "============================================================================================================================================\n",
       "Layer (type:depth-idx)                   Input Shape               Output Shape              Param #                   Trainable\n",
       "============================================================================================================================================\n",
       "E2E_3DViT                                [32, 1, 7, 224, 224]      [32, 1]                   --                        Partial\n",
       "├─VisionTransformer3D: 1-1               [32, 1, 7, 224, 224]      [32, 384]                 301,824                   Partial\n",
       "│    └─PatchEmbed: 2-1                   [32, 1, 7, 224, 224]      [32, 784, 384]            --                        True\n",
       "│    │    └─Conv3d: 3-1                  [32, 1, 224, 224, 7]      [32, 384, 28, 28, 1]      172,416                   True\n",
       "│    └─Dropout: 2-2                      [32, 785, 384]            [32, 785, 384]            --                        --\n",
       "│    └─ModuleList: 2-3                   --                        --                        --                        Partial\n",
       "│    │    └─Block: 3-2                   [32, 785, 384]            [32, 785, 384]            (1,774,464)               False\n",
       "│    │    └─Block: 3-3                   [32, 785, 384]            [32, 785, 384]            (1,774,464)               False\n",
       "│    │    └─Block: 3-4                   [32, 785, 384]            [32, 785, 384]            (1,774,464)               False\n",
       "│    │    └─Block: 3-5                   [32, 785, 384]            [32, 785, 384]            (1,774,464)               False\n",
       "│    │    └─Block: 3-6                   [32, 785, 384]            [32, 785, 384]            (1,774,464)               False\n",
       "│    │    └─Block: 3-7                   [32, 785, 384]            [32, 785, 384]            (1,774,464)               False\n",
       "│    │    └─Block: 3-8                   [32, 785, 384]            [32, 785, 384]            (1,774,464)               False\n",
       "│    │    └─Block: 3-9                   [32, 785, 384]            [32, 785, 384]            (1,774,464)               False\n",
       "│    │    └─Block: 3-10                  [32, 785, 384]            [32, 785, 384]            (1,774,464)               False\n",
       "│    │    └─Block: 3-11                  [32, 785, 384]            [32, 785, 384]            (1,774,464)               False\n",
       "│    │    └─Block: 3-12                  [32, 785, 384]            [32, 785, 384]            (1,774,464)               False\n",
       "│    │    └─Block: 3-13                  [32, 785, 384]            [32, 785, 384]            1,774,464                 Partial\n",
       "│    └─LayerNorm: 2-4                    [32, 785, 384]            [32, 785, 384]            768                       True\n",
       "├─Linear: 1-2                            [32, 384]                 [32, 1]                   385                       True\n",
       "============================================================================================================================================\n",
       "Total params: 21,768,961\n",
       "Trainable params: 1,503,745\n",
       "Non-trainable params: 20,265,216\n",
       "Total mult-adds (Units.GIGABYTES): 5.01\n",
       "============================================================================================================================================\n",
       "Input size (MB): 44.96\n",
       "Forward/backward pass size (MB): 10340.50\n",
       "Params size (MB): 85.87\n",
       "Estimated Total Size (MB): 10471.33\n",
       "============================================================================================================================================"
      ]
     },
     "execution_count": 9,
     "metadata": {},
     "output_type": "execute_result"
    }
   ],
   "source": [
    "batch_size = 32\n",
    "summary(model, input_size=(batch_size, 1, 7, 224, 224),\n",
    "        col_names=[\"input_size\",\n",
    "                \"output_size\",\n",
    "                \"num_params\",\n",
    "                \"trainable\"])"
   ]
  },
  {
   "cell_type": "code",
   "execution_count": null,
   "id": "706fc7e0-dd69-472f-b6dd-09d8f798ca99",
   "metadata": {},
   "outputs": [],
   "source": []
  }
 ],
 "metadata": {
  "kernelspec": {
   "display_name": "Python 3 (ipykernel)",
   "language": "python",
   "name": "python3"
  },
  "language_info": {
   "codemirror_mode": {
    "name": "ipython",
    "version": 3
   },
   "file_extension": ".py",
   "mimetype": "text/x-python",
   "name": "python",
   "nbconvert_exporter": "python",
   "pygments_lexer": "ipython3",
   "version": "3.12.2"
  }
 },
 "nbformat": 4,
 "nbformat_minor": 5
}
