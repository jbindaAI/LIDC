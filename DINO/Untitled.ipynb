{
 "cells": [
  {
   "cell_type": "markdown",
   "id": "b76b7613-9740-45b7-9739-2dd1e4ad8989",
   "metadata": {},
   "source": [
    "## Finetuning pre-trained in a self-supervised manner ViT transformer to LIDC dataset."
   ]
  },
  {
   "cell_type": "code",
   "execution_count": null,
   "id": "de47e077-ebcf-4de6-9dd0-8f3059b14656",
   "metadata": {},
   "outputs": [],
   "source": []
  }
 ],
 "metadata": {
  "kernelspec": {
   "display_name": "Python 3 (ipykernel)",
   "language": "python",
   "name": "python3"
  },
  "language_info": {
   "codemirror_mode": {
    "name": "ipython",
    "version": 3
   },
   "file_extension": ".py",
   "mimetype": "text/x-python",
   "name": "python",
   "nbconvert_exporter": "python",
   "pygments_lexer": "ipython3",
   "version": "3.12.2"
  }
 },
 "nbformat": 4,
 "nbformat_minor": 5
}
