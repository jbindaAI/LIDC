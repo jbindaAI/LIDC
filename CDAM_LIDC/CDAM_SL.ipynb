{
 "cells": [
  {
   "cell_type": "markdown",
   "metadata": {},
   "source": [
    "# Class-discriminative attention maps for Vision Transformer"
   ]
  },
  {
   "cell_type": "markdown",
   "metadata": {},
   "source": [
    "**Using Vision Transformer trained pretrained in a Supervised manner (SL)**"
   ]
  },
  {
   "cell_type": "code",
   "execution_count": 1,
   "metadata": {},
   "outputs": [],
   "source": [
    "import torch\n",
    "from torchvision import transforms\n",
    "import matplotlib.pyplot as plt\n",
    "import cmasher as cmr\n",
    "import matplotlib.colors as clr\n",
    "from glob import glob\n",
    "from tqdm.notebook import tqdm\n",
    "import numpy as np\n",
    "import seaborn as sns\n",
    "import gc\n",
    "from types import MethodType\n",
    "import copy\n",
    "import seaborn as sns\n",
    "import pandas as pd\n",
    "import pickle\n",
    "import os\n",
    "from functools import partial\n",
    "from torch import nn"
   ]
  },
  {
   "cell_type": "code",
   "execution_count": 2,
   "metadata": {},
   "outputs": [],
   "source": [
    "device = \"cuda\""
   ]
  },
  {
   "cell_type": "markdown",
   "metadata": {},
   "source": [
    "Loading Vision Transformer trained on the LIDC Dataset. There are two available: one with path size=16 and second one with patch size=32."
   ]
  },
  {
   "cell_type": "code",
   "execution_count": 3,
   "metadata": {},
   "outputs": [],
   "source": [
    "from End2End_SL import ViT_End2End_Model_base"
   ]
  },
  {
   "cell_type": "code",
   "execution_count": 4,
   "metadata": {},
   "outputs": [
    {
     "data": {
      "text/plain": [
       "<All keys matched successfully>"
      ]
     },
     "execution_count": 4,
     "metadata": {},
     "output_type": "execute_result"
    }
   ],
   "source": [
    "PATCH_SIZE=16 # Adjust: 16 or 32\n",
    "\n",
    "model = ViT_End2End_Model_base(patch_size=PATCH_SIZE)\n",
    "model.load_state_dict(torch.load(f\"weights/ViT_end2end_{PATCH_SIZE}p/ViT_finetune_1.pt\"))"
   ]
  },
  {
   "cell_type": "code",
   "execution_count": 5,
   "metadata": {},
   "outputs": [],
   "source": [
    "# Slight modifications to the original architecture: https://github.com/pytorch/vision/blob/main/torchvision/models/vision_transformer.py\n",
    "# to extract attention weights.\n",
    "\n",
    "def forward_new(self, input: torch.Tensor):\n",
    "    torch._assert(input.dim() == 3, f\"Expected (batch_size, seq_length, hidden_dim) got {input.shape}\")\n",
    "    x = self.ln_1(input)\n",
    "    x, attn_output_weights = self.self_attention(x, x, x, need_weights=True, average_attn_weights=False)\n",
    "    x = self.dropout(x)\n",
    "    x = x + input\n",
    "\n",
    "    y = self.ln_2(x)\n",
    "    y = self.mlp(y)\n",
    "    return x + y"
   ]
  },
  {
   "cell_type": "code",
   "execution_count": 6,
   "metadata": {
    "scrolled": true
   },
   "outputs": [],
   "source": [
    "model.model.encoder.layers.encoder_layer_11.forward = MethodType(forward_new, model.model.encoder.layers.encoder_layer_11)"
   ]
  },
  {
   "cell_type": "code",
   "execution_count": 7,
   "metadata": {},
   "outputs": [],
   "source": [
    "patch_size = PATCH_SIZE\n",
    "img_size = (224, 224)\n",
    "final_block_norm1 = model.model.encoder.layers.encoder_layer_11.ln_1\n",
    "final_block_selfattn = model.model.encoder.layers.encoder_layer_11.self_attention"
   ]
  },
  {
   "cell_type": "code",
   "execution_count": 8,
   "metadata": {},
   "outputs": [
    {
     "name": "stdout",
     "output_type": "stream",
     "text": [
      "ViT_End2End_Model_base(\n",
      "  (model): VisionTransformer(\n",
      "    (conv_proj): Conv2d(3, 768, kernel_size=(16, 16), stride=(16, 16))\n",
      "    (encoder): Encoder(\n",
      "      (dropout): Dropout(p=0.0, inplace=False)\n",
      "      (layers): Sequential(\n",
      "        (encoder_layer_0): EncoderBlock(\n",
      "          (ln_1): LayerNorm((768,), eps=1e-06, elementwise_affine=True)\n",
      "          (self_attention): MultiheadAttention(\n",
      "            (out_proj): NonDynamicallyQuantizableLinear(in_features=768, out_features=768, bias=True)\n",
      "          )\n",
      "          (dropout): Dropout(p=0.0, inplace=False)\n",
      "          (ln_2): LayerNorm((768,), eps=1e-06, elementwise_affine=True)\n",
      "          (mlp): MLPBlock(\n",
      "            (0): Linear(in_features=768, out_features=3072, bias=True)\n",
      "            (1): GELU(approximate='none')\n",
      "            (2): Dropout(p=0.0, inplace=False)\n",
      "            (3): Linear(in_features=3072, out_features=768, bias=True)\n",
      "            (4): Dropout(p=0.0, inplace=False)\n",
      "          )\n",
      "        )\n",
      "        (encoder_layer_1): EncoderBlock(\n",
      "          (ln_1): LayerNorm((768,), eps=1e-06, elementwise_affine=True)\n",
      "          (self_attention): MultiheadAttention(\n",
      "            (out_proj): NonDynamicallyQuantizableLinear(in_features=768, out_features=768, bias=True)\n",
      "          )\n",
      "          (dropout): Dropout(p=0.0, inplace=False)\n",
      "          (ln_2): LayerNorm((768,), eps=1e-06, elementwise_affine=True)\n",
      "          (mlp): MLPBlock(\n",
      "            (0): Linear(in_features=768, out_features=3072, bias=True)\n",
      "            (1): GELU(approximate='none')\n",
      "            (2): Dropout(p=0.0, inplace=False)\n",
      "            (3): Linear(in_features=3072, out_features=768, bias=True)\n",
      "            (4): Dropout(p=0.0, inplace=False)\n",
      "          )\n",
      "        )\n",
      "        (encoder_layer_2): EncoderBlock(\n",
      "          (ln_1): LayerNorm((768,), eps=1e-06, elementwise_affine=True)\n",
      "          (self_attention): MultiheadAttention(\n",
      "            (out_proj): NonDynamicallyQuantizableLinear(in_features=768, out_features=768, bias=True)\n",
      "          )\n",
      "          (dropout): Dropout(p=0.0, inplace=False)\n",
      "          (ln_2): LayerNorm((768,), eps=1e-06, elementwise_affine=True)\n",
      "          (mlp): MLPBlock(\n",
      "            (0): Linear(in_features=768, out_features=3072, bias=True)\n",
      "            (1): GELU(approximate='none')\n",
      "            (2): Dropout(p=0.0, inplace=False)\n",
      "            (3): Linear(in_features=3072, out_features=768, bias=True)\n",
      "            (4): Dropout(p=0.0, inplace=False)\n",
      "          )\n",
      "        )\n",
      "        (encoder_layer_3): EncoderBlock(\n",
      "          (ln_1): LayerNorm((768,), eps=1e-06, elementwise_affine=True)\n",
      "          (self_attention): MultiheadAttention(\n",
      "            (out_proj): NonDynamicallyQuantizableLinear(in_features=768, out_features=768, bias=True)\n",
      "          )\n",
      "          (dropout): Dropout(p=0.0, inplace=False)\n",
      "          (ln_2): LayerNorm((768,), eps=1e-06, elementwise_affine=True)\n",
      "          (mlp): MLPBlock(\n",
      "            (0): Linear(in_features=768, out_features=3072, bias=True)\n",
      "            (1): GELU(approximate='none')\n",
      "            (2): Dropout(p=0.0, inplace=False)\n",
      "            (3): Linear(in_features=3072, out_features=768, bias=True)\n",
      "            (4): Dropout(p=0.0, inplace=False)\n",
      "          )\n",
      "        )\n",
      "        (encoder_layer_4): EncoderBlock(\n",
      "          (ln_1): LayerNorm((768,), eps=1e-06, elementwise_affine=True)\n",
      "          (self_attention): MultiheadAttention(\n",
      "            (out_proj): NonDynamicallyQuantizableLinear(in_features=768, out_features=768, bias=True)\n",
      "          )\n",
      "          (dropout): Dropout(p=0.0, inplace=False)\n",
      "          (ln_2): LayerNorm((768,), eps=1e-06, elementwise_affine=True)\n",
      "          (mlp): MLPBlock(\n",
      "            (0): Linear(in_features=768, out_features=3072, bias=True)\n",
      "            (1): GELU(approximate='none')\n",
      "            (2): Dropout(p=0.0, inplace=False)\n",
      "            (3): Linear(in_features=3072, out_features=768, bias=True)\n",
      "            (4): Dropout(p=0.0, inplace=False)\n",
      "          )\n",
      "        )\n",
      "        (encoder_layer_5): EncoderBlock(\n",
      "          (ln_1): LayerNorm((768,), eps=1e-06, elementwise_affine=True)\n",
      "          (self_attention): MultiheadAttention(\n",
      "            (out_proj): NonDynamicallyQuantizableLinear(in_features=768, out_features=768, bias=True)\n",
      "          )\n",
      "          (dropout): Dropout(p=0.0, inplace=False)\n",
      "          (ln_2): LayerNorm((768,), eps=1e-06, elementwise_affine=True)\n",
      "          (mlp): MLPBlock(\n",
      "            (0): Linear(in_features=768, out_features=3072, bias=True)\n",
      "            (1): GELU(approximate='none')\n",
      "            (2): Dropout(p=0.0, inplace=False)\n",
      "            (3): Linear(in_features=3072, out_features=768, bias=True)\n",
      "            (4): Dropout(p=0.0, inplace=False)\n",
      "          )\n",
      "        )\n",
      "        (encoder_layer_6): EncoderBlock(\n",
      "          (ln_1): LayerNorm((768,), eps=1e-06, elementwise_affine=True)\n",
      "          (self_attention): MultiheadAttention(\n",
      "            (out_proj): NonDynamicallyQuantizableLinear(in_features=768, out_features=768, bias=True)\n",
      "          )\n",
      "          (dropout): Dropout(p=0.0, inplace=False)\n",
      "          (ln_2): LayerNorm((768,), eps=1e-06, elementwise_affine=True)\n",
      "          (mlp): MLPBlock(\n",
      "            (0): Linear(in_features=768, out_features=3072, bias=True)\n",
      "            (1): GELU(approximate='none')\n",
      "            (2): Dropout(p=0.0, inplace=False)\n",
      "            (3): Linear(in_features=3072, out_features=768, bias=True)\n",
      "            (4): Dropout(p=0.0, inplace=False)\n",
      "          )\n",
      "        )\n",
      "        (encoder_layer_7): EncoderBlock(\n",
      "          (ln_1): LayerNorm((768,), eps=1e-06, elementwise_affine=True)\n",
      "          (self_attention): MultiheadAttention(\n",
      "            (out_proj): NonDynamicallyQuantizableLinear(in_features=768, out_features=768, bias=True)\n",
      "          )\n",
      "          (dropout): Dropout(p=0.0, inplace=False)\n",
      "          (ln_2): LayerNorm((768,), eps=1e-06, elementwise_affine=True)\n",
      "          (mlp): MLPBlock(\n",
      "            (0): Linear(in_features=768, out_features=3072, bias=True)\n",
      "            (1): GELU(approximate='none')\n",
      "            (2): Dropout(p=0.0, inplace=False)\n",
      "            (3): Linear(in_features=3072, out_features=768, bias=True)\n",
      "            (4): Dropout(p=0.0, inplace=False)\n",
      "          )\n",
      "        )\n",
      "        (encoder_layer_8): EncoderBlock(\n",
      "          (ln_1): LayerNorm((768,), eps=1e-06, elementwise_affine=True)\n",
      "          (self_attention): MultiheadAttention(\n",
      "            (out_proj): NonDynamicallyQuantizableLinear(in_features=768, out_features=768, bias=True)\n",
      "          )\n",
      "          (dropout): Dropout(p=0.0, inplace=False)\n",
      "          (ln_2): LayerNorm((768,), eps=1e-06, elementwise_affine=True)\n",
      "          (mlp): MLPBlock(\n",
      "            (0): Linear(in_features=768, out_features=3072, bias=True)\n",
      "            (1): GELU(approximate='none')\n",
      "            (2): Dropout(p=0.0, inplace=False)\n",
      "            (3): Linear(in_features=3072, out_features=768, bias=True)\n",
      "            (4): Dropout(p=0.0, inplace=False)\n",
      "          )\n",
      "        )\n",
      "        (encoder_layer_9): EncoderBlock(\n",
      "          (ln_1): LayerNorm((768,), eps=1e-06, elementwise_affine=True)\n",
      "          (self_attention): MultiheadAttention(\n",
      "            (out_proj): NonDynamicallyQuantizableLinear(in_features=768, out_features=768, bias=True)\n",
      "          )\n",
      "          (dropout): Dropout(p=0.0, inplace=False)\n",
      "          (ln_2): LayerNorm((768,), eps=1e-06, elementwise_affine=True)\n",
      "          (mlp): MLPBlock(\n",
      "            (0): Linear(in_features=768, out_features=3072, bias=True)\n",
      "            (1): GELU(approximate='none')\n",
      "            (2): Dropout(p=0.0, inplace=False)\n",
      "            (3): Linear(in_features=3072, out_features=768, bias=True)\n",
      "            (4): Dropout(p=0.0, inplace=False)\n",
      "          )\n",
      "        )\n",
      "        (encoder_layer_10): EncoderBlock(\n",
      "          (ln_1): LayerNorm((768,), eps=1e-06, elementwise_affine=True)\n",
      "          (self_attention): MultiheadAttention(\n",
      "            (out_proj): NonDynamicallyQuantizableLinear(in_features=768, out_features=768, bias=True)\n",
      "          )\n",
      "          (dropout): Dropout(p=0.0, inplace=False)\n",
      "          (ln_2): LayerNorm((768,), eps=1e-06, elementwise_affine=True)\n",
      "          (mlp): MLPBlock(\n",
      "            (0): Linear(in_features=768, out_features=3072, bias=True)\n",
      "            (1): GELU(approximate='none')\n",
      "            (2): Dropout(p=0.0, inplace=False)\n",
      "            (3): Linear(in_features=3072, out_features=768, bias=True)\n",
      "            (4): Dropout(p=0.0, inplace=False)\n",
      "          )\n",
      "        )\n",
      "        (encoder_layer_11): EncoderBlock(\n",
      "          (ln_1): LayerNorm((768,), eps=1e-06, elementwise_affine=True)\n",
      "          (self_attention): MultiheadAttention(\n",
      "            (out_proj): NonDynamicallyQuantizableLinear(in_features=768, out_features=768, bias=True)\n",
      "          )\n",
      "          (dropout): Dropout(p=0.0, inplace=False)\n",
      "          (ln_2): LayerNorm((768,), eps=1e-06, elementwise_affine=True)\n",
      "          (mlp): MLPBlock(\n",
      "            (0): Linear(in_features=768, out_features=3072, bias=True)\n",
      "            (1): GELU(approximate='none')\n",
      "            (2): Dropout(p=0.0, inplace=False)\n",
      "            (3): Linear(in_features=3072, out_features=768, bias=True)\n",
      "            (4): Dropout(p=0.0, inplace=False)\n",
      "          )\n",
      "        )\n",
      "      )\n",
      "      (ln): LayerNorm((768,), eps=1e-06, elementwise_affine=True)\n",
      "    )\n",
      "    (heads): Linear(in_features=768, out_features=1, bias=True)\n",
      "  )\n",
      "  (accuracy): BinaryAccuracy()\n",
      "  (auroc): BinaryAUROC()\n",
      "  (precision_): BinaryPrecision()\n",
      "  (recall): BinaryRecall()\n",
      "  (criterion): BCEWithLogitsLoss()\n",
      ")\n"
     ]
    }
   ],
   "source": [
    "print(model)"
   ]
  },
  {
   "cell_type": "markdown",
   "metadata": {},
   "source": [
    "### Image loading and utils"
   ]
  },
  {
   "cell_type": "markdown",
   "metadata": {},
   "source": [
    "#### Computing mean  and std for normalization:"
   ]
  },
  {
   "cell_type": "code",
   "execution_count": 8,
   "metadata": {
    "scrolled": true
   },
   "outputs": [],
   "source": [
    "from LIDC_Dataset import LIDC_Dataset\n",
    "\n",
    "dataset = LIDC_Dataset(data_dir='../dataset',\n",
    "                       train_mode = True,\n",
    "                       apply_mask = False,\n",
    "                       transform = None,\n",
    "                       labels = 'targets',\n",
    "                       finetuning = True)"
   ]
  },
  {
   "cell_type": "code",
   "execution_count": 9,
   "metadata": {},
   "outputs": [],
   "source": [
    "imgs_list = [dataset[i][0] for i in range(len(dataset))]\n",
    "imgs = torch.stack(imgs_list, axis=0)\n",
    "channels_mean = torch.mean(imgs)\n",
    "channels_std = torch.std(imgs)"
   ]
  },
  {
   "cell_type": "code",
   "execution_count": 10,
   "metadata": {},
   "outputs": [
    {
     "data": {
      "text/plain": [
       "tensor(-632.0579)"
      ]
     },
     "execution_count": 10,
     "metadata": {},
     "output_type": "execute_result"
    }
   ],
   "source": [
    "channels_mean"
   ]
  },
  {
   "cell_type": "code",
   "execution_count": 11,
   "metadata": {},
   "outputs": [
    {
     "data": {
      "text/plain": [
       "tensor(358.9645)"
      ]
     },
     "execution_count": 11,
     "metadata": {},
     "output_type": "execute_result"
    }
   ],
   "source": [
    "channels_std"
   ]
  },
  {
   "cell_type": "code",
   "execution_count": 12,
   "metadata": {},
   "outputs": [],
   "source": [
    "def load_img(crop_path, crop_view=\"axial\", slice_=16):\n",
    "    \"\"\"Returns the image as resized and normalized tensor and as original (only resized)\"\"\"\n",
    "\n",
    "    channels_mean = [-629.8737, -629.8737, -629.8737]\n",
    "    channels_std = [358.9912, 358.9912, 358.9912]\n",
    "\n",
    "    resizeANDnorm = transforms.Compose(\n",
    "        [\n",
    "            transforms.Resize((224, 224), antialias=True),\n",
    "            transforms.Normalize(mean=channels_mean, std=channels_std)\n",
    "        ]\n",
    "    )\n",
    "    \n",
    "    resize = transforms.Compose(\n",
    "        [\n",
    "            transforms.Resize((224, 224), antialias=True)\n",
    "        ]\n",
    "    )\n",
    "    \n",
    "    crop = torch.load(crop_path).float()\n",
    "    \n",
    "    if crop_view == \"axial\":\n",
    "        img = crop[:, :, slice_]\n",
    "        mask = crop[:, :, slice_]\n",
    "        \n",
    "    elif crop_view == \"coronal\":\n",
    "        img = img[:, slice_, :]\n",
    "        mask = mask[:, slice_, :]\n",
    "        \n",
    "    elif crop_view == \"sagittal\":\n",
    "        img = img[slice_, :, :]\n",
    "        mask = mask[slice_, :, :]\n",
    "    \n",
    "    img = torch.clamp(img, -1000, 400)\n",
    "    \n",
    "    if (len(img.shape) < 3):\n",
    "        img = img.unsqueeze(0)\n",
    "    img = img.repeat(3,1,1)\n",
    "    \n",
    "    original_img = copy.deepcopy(img)\n",
    "    # to bring original img in [0, 1] range.\n",
    "    original_img -= -1000\n",
    "    original_img = original_img/1400\n",
    "\n",
    "    img = resizeANDnorm(img).to(device)\n",
    "    # Moving channels dimmension.\n",
    "    original_img = torch.movedim(resize(original_img).cpu(), 0, 2)\n",
    "\n",
    "    # make image divisible by patch size\n",
    "    w, h = (\n",
    "        img.shape[1] - img.shape[1] % patch_size,\n",
    "        img.shape[2] - img.shape[2] % patch_size,\n",
    "    )\n",
    "    img = img[:, :w, :h].unsqueeze(0)\n",
    "    img.requires_grad = True\n",
    "    return img, original_img"
   ]
  },
  {
   "cell_type": "code",
   "execution_count": 13,
   "metadata": {},
   "outputs": [],
   "source": [
    "# Define custom diverging color map\n",
    "mycmap = clr.LinearSegmentedColormap.from_list(\n",
    "    \"Random gradient 1030\",\n",
    "    (\n",
    "        (0.000, (0.000, 0.890, 1.000)),\n",
    "        (0.370, (0.263, 0.443, 0.671)),\n",
    "        (0.500, (0.000, 0.000, 0.000)),\n",
    "        (0.630, (0.545, 0.353, 0.267)),\n",
    "        (1.000, (1.000, 0.651, 0.000)),\n",
    "    ),\n",
    ")"
   ]
  },
  {
   "cell_type": "code",
   "execution_count": 14,
   "metadata": {},
   "outputs": [],
   "source": [
    "def get_cmap(heatmap):\n",
    "    \"\"\"Return a diverging colormap, such that 0 is at the center(black)\"\"\"\n",
    "    if heatmap.min() > 0 and heatmap.max() > 0:\n",
    "        bottom = 0.5\n",
    "        top = 1.0\n",
    "    elif heatmap.min() < 0 and heatmap.max() < 0:\n",
    "        bottom = 0.0\n",
    "        top = 0.5\n",
    "    else:\n",
    "        bottom = 0.5 - abs((heatmap.min() / abs(heatmap).max()) / 2)\n",
    "        top = 0.5 + abs((heatmap.max() / abs(heatmap).max()) / 2)\n",
    "    return cmr.get_sub_cmap(mycmap, bottom, top)"
   ]
  },
  {
   "cell_type": "code",
   "execution_count": 15,
   "metadata": {},
   "outputs": [],
   "source": [
    "def plot_results(original, maps, savename=None, figsize=(9, 9)):\n",
    "    \"\"\"Using matplotlib, plot the original image and the relevance maps\"\"\"\n",
    "    plt.figure(figsize=figsize)\n",
    "    num_plots = 1 + len(maps)\n",
    "\n",
    "    plt.subplot(1, num_plots, 1)\n",
    "    plt.imshow(original)\n",
    "    plt.set_cmap('gray')\n",
    "    plt.axis(\"off\")\n",
    "    for i, m in enumerate(maps):\n",
    "        plt.subplot(1, num_plots, i + 2)\n",
    "        plt.imshow(m, cmap=get_cmap(m))\n",
    "        plt.axis(\"off\")\n",
    "    plt.subplots_adjust(wspace=0.005, hspace=0)\n",
    "    # save the plot to a file, cropped to only the image\n",
    "    if savename:\n",
    "        plt.savefig(f\"maps/{savename}.png\", bbox_inches=\"tight\", pad_inches=0)\n",
    "    plt.show()"
   ]
  },
  {
   "cell_type": "markdown",
   "metadata": {},
   "source": [
    "### Functions to obtain attention maps"
   ]
  },
  {
   "cell_type": "code",
   "execution_count": 16,
   "metadata": {},
   "outputs": [],
   "source": [
    "def get_attention_map(model, sample_img, head=None, return_raw=False):\n",
    "    \"\"\"This returns the attentions when CLS token is used as query in the last attention layer, averaged over all attention heads\"\"\"\n",
    "    model(sample_img)\n",
    "\n",
    "    attentions = last_selfattn[\"last_selfattn\"]\n",
    "\n",
    "    w_featmap = sample_img.shape[-2] // patch_size\n",
    "    h_featmap = sample_img.shape[-1] // patch_size\n",
    "\n",
    "    nh = attentions.shape[1]  # number of heads\n",
    "\n",
    "\n",
    "    # this extracts the attention when cls is used as query\n",
    "    attentions = attentions[0, :, 0, 1:].reshape(nh, -1)\n",
    "    if return_raw:\n",
    "        return torch.mean(attentions, dim=0).squeeze().detach().cpu().numpy()\n",
    "\n",
    "    attentions = attentions.reshape(nh, w_featmap, h_featmap)\n",
    "    attentions = torch.nn.functional.interpolate(\n",
    "        attentions.unsqueeze(0), scale_factor=patch_size, mode=\"nearest\"\n",
    "    )[0]\n",
    "    if head == None:\n",
    "        mean_attention = torch.mean(attentions, dim=0).squeeze().detach().cpu().numpy()\n",
    "        return mean_attention\n",
    "    else:\n",
    "        return attentions[head].squeeze().detach().cpu().numpy()"
   ]
  },
  {
   "cell_type": "code",
   "execution_count": 17,
   "metadata": {},
   "outputs": [],
   "source": [
    "def get_CDAM(class_score, activation, grad, clip=False, return_raw=False):\n",
    "    \"\"\"The class_score can either be the activation of a neuron in the prediction vector or a similarity score between the latent representations of a concept and a sample\"\"\"\n",
    "    class_score.backward()\n",
    "    # Token 0 is CLS and others are image patch tokens\n",
    "    tokens = activation[\"last_att_in\"][1:]\n",
    "    grads = grad[\"last_att_in\"][0][0, 1:]\n",
    "\n",
    "    attention_scores = torch.tensor(\n",
    "        [torch.dot(tokens[i], grads[i]) for i in range(len(tokens))]\n",
    "    )\n",
    "\n",
    "    if return_raw:\n",
    "        return attention_scores\n",
    "    else:\n",
    "        # clip for higher contrast plots\n",
    "        if clip:\n",
    "            attention_scores = torch.clamp(\n",
    "                attention_scores,\n",
    "                min=torch.quantile(attention_scores, 0.001),\n",
    "                max=torch.quantile(attention_scores, 0.999),\n",
    "            )\n",
    "        w = int(np.sqrt(attention_scores.squeeze().shape[0]))\n",
    "        attention_scores = attention_scores.reshape(w, w)\n",
    "\n",
    "        return torch.nn.functional.interpolate(\n",
    "            attention_scores.unsqueeze(0).unsqueeze(0),\n",
    "            scale_factor=patch_size,\n",
    "            mode=\"nearest\",\n",
    "        ).squeeze()"
   ]
  },
  {
   "cell_type": "markdown",
   "metadata": {},
   "source": [
    "### Define hooks for token activations and gradients before they enter last attention"
   ]
  },
  {
   "cell_type": "code",
   "execution_count": 18,
   "metadata": {},
   "outputs": [],
   "source": [
    "# function to extract activation\n",
    "activation = {}\n",
    "\n",
    "def get_activation(name):\n",
    "    def hook(model, input, output):\n",
    "        activation[name] = output[0].detach()\n",
    "\n",
    "    return hook\n",
    "\n",
    "\n",
    "# function to extract gradients\n",
    "grad = {}\n",
    "\n",
    "def get_gradient(name):\n",
    "    def hook(model, input, output):\n",
    "        grad[name] = output\n",
    "\n",
    "    return hook\n",
    "\n",
    "\n",
    "# function to extract attention\n",
    "last_selfattn = {}\n",
    "\n",
    "def get_last_selfattn(name):\n",
    "    def hook(model, input, output):\n",
    "        last_selfattn[name] = output[1].detach()\n",
    "\n",
    "    return hook"
   ]
  },
  {
   "cell_type": "code",
   "execution_count": 19,
   "metadata": {},
   "outputs": [],
   "source": [
    "activation_hook = final_block_norm1.register_forward_hook(\n",
    "    get_activation(\"last_att_in\")\n",
    ")\n",
    "grad_hook = final_block_norm1.register_full_backward_hook(\n",
    "    get_gradient(\"last_att_in\")\n",
    ")\n",
    "last_selfattn_hook = final_block_selfattn.register_forward_hook(\n",
    "    get_last_selfattn(\"last_selfattn\")\n",
    ")"
   ]
  },
  {
   "cell_type": "code",
   "execution_count": 20,
   "metadata": {},
   "outputs": [],
   "source": [
    "def get_maps(model, img, return_raw=False, clip=False):\n",
    "    \"\"\"\n",
    "    Wrapper function to get the attention map and the concept map for a given image and target class.\n",
    "    In the case of LIDC dataset, target class is a malignant nodule.\n",
    "    \"\"\"\n",
    "    \n",
    "    pred = model(img)\n",
    "    class_attention_map = get_CDAM(\n",
    "        class_score=pred[0], \n",
    "        \n",
    "        activation=activation,\n",
    "        grad=grad,\n",
    "        return_raw=return_raw,\n",
    "        clip=clip\n",
    "    )\n",
    "    attention_map = get_attention_map(model, img, head=None, return_raw=return_raw)\n",
    "    return attention_map, class_attention_map"
   ]
  },
  {
   "cell_type": "markdown",
   "metadata": {},
   "source": [
    "### Visualizing class score "
   ]
  },
  {
   "cell_type": "code",
   "execution_count": 21,
   "metadata": {},
   "outputs": [],
   "source": [
    "model = model.to(device)"
   ]
  },
  {
   "cell_type": "code",
   "execution_count": 24,
   "metadata": {},
   "outputs": [
    {
     "data": {
      "image/png": "[encoded data removed]",
      "text/plain": [
       "<Figure size 900x900 with 3 Axes>"
      ]
     },
     "metadata": {},
     "output_type": "display_data"
    }
   ],
   "source": [
    "img_path = \"/home/jbinda/INFORM/LIDC/dataset/crops/0075.pt\"\n",
    "sample_img, original_img = load_img(img_path)\n",
    "sample_img.requires_grad = True\n",
    "\n",
    "attention_map, class_attention_map = get_maps(model, sample_img, clip=True)\n",
    "\n",
    "plot_results(original_img, [attention_map, class_attention_map])"
   ]
  },
  {
   "cell_type": "code",
   "execution_count": null,
   "metadata": {},
   "outputs": [],
   "source": []
  }
 ],
 "metadata": {
  "kernelspec": {
   "display_name": "Python 3 (ipykernel)",
   "language": "python",
   "name": "python3"
  },
  "language_info": {
   "codemirror_mode": {
    "name": "ipython",
    "version": 3
   },
   "file_extension": ".py",
   "mimetype": "text/x-python",
   "name": "python",
   "nbconvert_exporter": "python",
   "pygments_lexer": "ipython3",
   "version": "3.12.2"
  }
 },
 "nbformat": 4,
 "nbformat_minor": 4
}
